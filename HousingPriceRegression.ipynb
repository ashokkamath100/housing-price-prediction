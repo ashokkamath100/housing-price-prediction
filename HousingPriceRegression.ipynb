{
 "cells": [
  {
   "cell_type": "markdown",
   "metadata": {
    "id": "cRiw-N64LvL7"
   },
   "source": [
    "# 1. Problem and Data Description\n"
   ]
  },
  {
   "cell_type": "code",
   "execution_count": null,
   "metadata": {
    "id": "E7yPDTnzMjVA"
   },
   "outputs": [],
   "source": [
    "import numpy as np\n",
    "import pandas as pd\n",
    "import matplotlib.pyplot as plt\n",
    "import seaborn as sns"
   ]
  },
  {
   "cell_type": "markdown",
   "metadata": {
    "id": "mEb-9qZtMrAA"
   },
   "source": [
    "Housing Prices Section"
   ]
  },
  {
   "cell_type": "code",
   "execution_count": null,
   "metadata": {
    "colab": {
     "base_uri": "https://localhost:8080/",
     "height": 334
    },
    "id": "fTP_jFBPMgCW",
    "outputId": "ebd7a6a1-3fa3-437f-a298-d1c3b2dbe24e"
   },
   "outputs": [],
   "source": [
    "hp_train = pd.read_csv('/content/hp_train.csv') ## this might be on the directory\n",
    "hp_test = pd.read_csv('/content/hp_test.csv')\n",
    "# Shape and preview\n",
    "print('Train set shape:', hp_train.shape)\n",
    "print('Test set shape:', hp_test.shape)\n",
    "hp_train.head() \n"
   ]
  },
  {
   "cell_type": "markdown",
   "metadata": {
    "id": "fgquQHeZTxv4"
   },
   "source": [
    "# Housing Prices Section\n",
    "\n"
   ]
  },
  {
   "cell_type": "markdown",
   "metadata": {
    "id": "yd-55J01UCDg"
   },
   "source": [
    "##2.1 Handing missing values\n"
   ]
  },
  {
   "cell_type": "code",
   "execution_count": null,
   "metadata": {
    "colab": {
     "base_uri": "https://localhost:8080/",
     "height": 487
    },
    "id": "JrZuRqqLIpF2",
    "outputId": "98cce8b7-4930-49c2-f1d8-ee5ce6cf1073"
   },
   "outputs": [],
   "source": [
    "hp_train = pd.read_csv('/content/hp_train.csv') ## this might be on the directory\n",
    "hp_test = pd.read_csv('/content/hp_test.csv')\n",
    "hp_train"
   ]
  },
  {
   "cell_type": "code",
   "execution_count": null,
   "metadata": {
    "colab": {
     "base_uri": "https://localhost:8080/",
     "height": 394
    },
    "id": "XagNUNYZNez8",
    "outputId": "eca57d9a-6f22-47bb-e29d-6e5f4d66b6f5"
   },
   "outputs": [],
   "source": [
    "hp_train.describe()"
   ]
  },
  {
   "cell_type": "code",
   "execution_count": null,
   "metadata": {
    "colab": {
     "base_uri": "https://localhost:8080/",
     "height": 487
    },
    "id": "QzmSXgDfsuDe",
    "outputId": "a934c16d-3f42-4f55-ac05-d471fdd24cd2"
   },
   "outputs": [],
   "source": [
    "from sklearn import preprocessing\n",
    "categorical = (hp_train.dtypes == object)\n",
    "categorical1 = (hp_test.dtypes == object)\n",
    "categorical\n",
    "\n",
    "for col in range(len(hp_train.columns)):\n",
    "  if categorical[col] == True :\n",
    "    le = preprocessing.LabelEncoder() \n",
    "    hp_train.iloc[:, col] = le.fit_transform(hp_train.iloc[:,col])\n",
    "\n",
    "for col in range(len(hp_test.columns)):\n",
    "  if categorical1[col] == True :\n",
    "    le = preprocessing.LabelEncoder() \n",
    "    hp_test.iloc[:, col] = le.fit_transform(hp_test.iloc[:,col])\n",
    "hp_test"
   ]
  },
  {
   "cell_type": "markdown",
   "metadata": {
    "id": "q24EfZbgUONo"
   },
   "source": [
    "##2.2 Exploratory Data Analysis\n"
   ]
  },
  {
   "cell_type": "code",
   "execution_count": null,
   "metadata": {
    "colab": {
     "base_uri": "https://localhost:8080/",
     "height": 423
    },
    "id": "GExSbG_WVsUy",
    "outputId": "2bc294c5-9460-4445-c8d4-4331d13e7114"
   },
   "outputs": [],
   "source": [
    "corr_matrix = hp_train.corr()\n",
    "corr_df = pd.DataFrame(corr_matrix[\"SalePrice\"].sort_values(ascending=False))\n",
    "corr_df\n",
    "#print(len(corr_matrix))"
   ]
  },
  {
   "cell_type": "code",
   "execution_count": null,
   "metadata": {
    "colab": {
     "base_uri": "https://localhost:8080/",
     "height": 487
    },
    "id": "_1YaW1UZQJSM",
    "outputId": "b78633e4-7309-4d17-d6a7-587eb7afd036"
   },
   "outputs": [],
   "source": [
    "## correlation matrix  might need correaltion with the sale prices\n",
    "hp_train_subset = hp_train[[\"SalePrice\",\"OverallQual\",\"GrLivArea\", \"GarageCars\",\"GarageArea\",\"TotalBsmtSF\",\"1stFlrSF\",\"FullBath\",\"TotRmsAbvGrd\",\"YearBuilt\",\"YearRemodAdd\",\"GarageYrBlt\",\"MasVnrArea\",\"Fireplaces\"]]\n",
    "hp_train_subset\n",
    "hp_test_subset = hp_test[[\"OverallQual\",\"GrLivArea\", \"GarageCars\",\"GarageArea\",\"TotalBsmtSF\",\"1stFlrSF\",\"FullBath\",\"TotRmsAbvGrd\",\"YearBuilt\",\"YearRemodAdd\",\"GarageYrBlt\",\"MasVnrArea\",\"Fireplaces\"]]\n",
    "hp_test_subset"
   ]
  },
  {
   "cell_type": "code",
   "execution_count": null,
   "metadata": {
    "colab": {
     "base_uri": "https://localhost:8080/",
     "height": 0
    },
    "id": "CCvCI0m6eg6I",
    "outputId": "0307c994-4f99-4714-cd4e-b719bab8bd54"
   },
   "outputs": [],
   "source": [
    "## finding the missing value \n",
    "print(hp_train_subset.isna().sum())\n",
    "##  compare with the missing values from the original data\n",
    "print(hp_train['SalePrice'].isna().sum())\n",
    "print(hp_train['OverallQual'].isna().sum())\n",
    "print(hp_train['GrLivArea'].isna().sum())\n",
    "print(hp_train['GarageCars'].isna().sum())\n",
    "print(hp_train['GarageArea'].isna().sum())\n",
    "print(hp_train['TotalBsmtSF'].isna().sum())\n",
    "print(hp_train['1stFlrSF'].isna().sum())\n",
    "print(hp_train['FullBath'].isna().sum())\n",
    "print(hp_train['TotRmsAbvGrd'].isna().sum())\n",
    "print(hp_train['YearBuilt'].isna().sum())\n",
    "print(hp_train['YearRemodAdd'].isna().sum())\n",
    "print(hp_train['GarageYrBlt'].isna().sum())##\n",
    "print(hp_train['MasVnrArea'].isna().sum())##\n",
    "print(hp_train['Fireplaces'].isna().sum())\n",
    "print(hp_test_subset.isna().sum())"
   ]
  },
  {
   "cell_type": "code",
   "execution_count": null,
   "metadata": {
    "colab": {
     "base_uri": "https://localhost:8080/",
     "height": 0
    },
    "id": "mTZb7fGs-c_H",
    "outputId": "e17301a7-c60c-4940-f353-ae61568f7042"
   },
   "outputs": [],
   "source": [
    "hp_test_subset.isna().sum()\n",
    "#len(hp_test_subset)\n",
    "hp_test_subset['GarageCars'] = hp_test_subset['GarageCars'].replace(np.nan, np.nanmean(hp_test_subset.loc[:'GarageCars']))\n",
    "hp_test_subset['GarageArea'] = hp_test_subset['GarageArea'].replace(np.nan, np.nanmean(hp_test_subset.loc[:,'GarageArea']))\n",
    "hp_test_subset['TotalBsmtSF'] = hp_test_subset['TotalBsmtSF'].replace(np.nan, np.nanmean(hp_test_subset.loc[:,'TotalBsmtSF']))\n",
    "\n",
    "#hp_test_subset = hp_test_subset[hp_test_subset['TotalBsmtSF'].notna()]\n",
    "\n",
    "hp_test_subset['GarageYrBlt'] = hp_test_subset['GarageYrBlt'].replace(np.nan, np.nanmean(hp_test_subset.loc[:,'GarageYrBlt']))\n",
    "hp_test_subset['MasVnrArea'] = hp_test_subset['MasVnrArea'].replace(np.nan,0)\n",
    "hp_test_subset.isna().sum()\n"
   ]
  },
  {
   "cell_type": "code",
   "execution_count": null,
   "metadata": {
    "colab": {
     "base_uri": "https://localhost:8080/",
     "height": 364
    },
    "id": "F5JL-iyOOK6e",
    "outputId": "d399571a-3787-441d-d254-cd881b34e53e"
   },
   "outputs": [],
   "source": [
    "import statistics\n",
    "hp_train_subset.describe()"
   ]
  },
  {
   "cell_type": "code",
   "execution_count": null,
   "metadata": {
    "colab": {
     "base_uri": "https://localhost:8080/",
     "height": 0
    },
    "id": "LheTLb6zUE_7",
    "outputId": "6c760fe3-8716-4e8e-ade5-f353e166639b"
   },
   "outputs": [],
   "source": [
    "## missing value check\n",
    "print('TRAIN SET MISSING VALUES:')\n",
    "print(hp_train.isna().sum())\n",
    "print('')\n",
    "print('TEST SET MISSING VALUES:')\n",
    "print(hp_test.isna().sum())"
   ]
  },
  {
   "cell_type": "code",
   "execution_count": null,
   "metadata": {
    "id": "1xWiwh8yCwoa"
   },
   "outputs": [],
   "source": []
  },
  {
   "cell_type": "code",
   "execution_count": null,
   "metadata": {
    "colab": {
     "base_uri": "https://localhost:8080/",
     "height": 516
    },
    "id": "deqzF7VQeeAi",
    "outputId": "90337af9-0f15-49b5-caed-3fc5787e5393"
   },
   "outputs": [],
   "source": [
    "plt.figure(figsize=(16,8))\n",
    "\n",
    "plt.subplot(2,2,1)\n",
    "plt.title(\"Gross Living Area and Sale Price\")\n",
    "line_params = np.polyfit(hp_train.loc[:,'GrLivArea'], hp_train.loc[:,'SalePrice'], 1)\n",
    "line = line_params[1] + line_params[0] * hp_train.loc[:,'GrLivArea']\n",
    "plt.plot(hp_train.loc[:,'GrLivArea'], line, 'r')\n",
    "plt.scatter(x = hp_train.loc[:,'GrLivArea'],y = hp_train.loc[:,'SalePrice'] , color = 'yellow')\n",
    "\n",
    "plt.subplot(2,2,2)\n",
    "plt.title(\"Year Built and Sale Price\")\n",
    "line_params = np.polyfit(hp_train.loc[:,'YearBuilt'], hp_train.loc[:,'SalePrice'], 1)\n",
    "line = line_params[1] + line_params[0] * hp_train.loc[:,'YearBuilt']\n",
    "plt.plot(hp_train.loc[:,'YearBuilt'], line, 'r')\n",
    "plt.scatter(x = hp_train.loc[:,'YearBuilt'],y= hp_train.loc[:,'SalePrice'] , color = 'orange')\n",
    "\n",
    "plt.subplot(2,2,3)\n",
    "plt.title(\"Garage Area and Sale Price\")\n",
    "line_params = np.polyfit(hp_train.loc[:,'GarageArea'], hp_train.loc[:,'SalePrice'], 1)\n",
    "line = line_params[1] + line_params[0] * hp_train.loc[:,'GarageArea']\n",
    "plt.plot(hp_train.loc[:,'GarageArea'], line, 'r')\n",
    "plt.scatter(x = hp_train.loc[:,'GarageArea'],y= hp_train.loc[:,'SalePrice'] , color = 'purple')\n",
    "\n",
    "plt.subplot(2,2,4)\n",
    "plt.title(\"Year of Remodel and Sale Price\")\n",
    "line_params = np.polyfit(hp_train.loc[:,'YearRemodAdd'], hp_train.loc[:,'SalePrice'], 1)\n",
    "line = line_params[1] + line_params[0] * hp_train.loc[:,'YearRemodAdd']\n",
    "plt.plot(hp_train.loc[:,'YearRemodAdd'], line, 'r')\n",
    "plt.scatter(x = hp_train.loc[:,'YearRemodAdd'],y = hp_train.loc[:,'SalePrice'] , color = 'green')\n"
   ]
  },
  {
   "cell_type": "markdown",
   "metadata": {
    "id": "bcgIiCHwZE1_"
   },
   "source": [
    "##Understanding Attribute Distributions"
   ]
  },
  {
   "cell_type": "code",
   "execution_count": null,
   "metadata": {
    "colab": {
     "base_uri": "https://localhost:8080/",
     "height": 1000
    },
    "id": "iB_Mkse1ZHac",
    "outputId": "a9beac62-99b7-4db3-f444-3792713a1808"
   },
   "outputs": [],
   "source": [
    "print(hp_train_subset.head(5))\n",
    "plt.figure(figsize = (16,12))\n",
    "\n",
    "plt.subplot(2,4,1)\n",
    "sns.distplot(hp_train.loc[:,'SalePrice'], color = 'red')\n",
    "\n",
    "plt.subplot(2,4,2)\n",
    "sns.distplot(hp_train.loc[:,'GrLivArea'], color = 'blue')\n",
    "\n",
    "plt.subplot(2,4,3)\n",
    "sns.distplot(hp_train.loc[:,'YearBuilt'], color = 'yellow')\n",
    "\n",
    "plt.subplot(2,4,4)\n",
    "sns.distplot(hp_train.loc[:,'YearRemodAdd'], color = 'green')\n",
    "\n",
    "plt.subplot(2,4,5)\n",
    "plt.hist(hp_train.loc[:,'OverallQual'], color = 'orange')\n",
    "\n",
    "plt.subplot(2,4,6)\n",
    "plt.hist(hp_train.loc[:,'GarageCars'], color = 'blue')\n",
    "\n",
    "plt.subplot(2,4,7)\n",
    "plt.hist(hp_train.loc[:,'FullBath'], color = 'pink')\n",
    "\n",
    "plt.subplot(2,4,8)\n",
    "plt.hist(hp_train.loc[:,'TotRmsAbvGrd'], color = 'purple')"
   ]
  },
  {
   "cell_type": "code",
   "execution_count": null,
   "metadata": {
    "colab": {
     "base_uri": "https://localhost:8080/",
     "height": 0
    },
    "id": "P9BECQHri4Xl",
    "outputId": "ef1c24b0-34d9-496c-d828-b2652be1070f"
   },
   "outputs": [],
   "source": [
    "import statistics \n",
    "hp_train_subset['GarageYrBlt'] = hp_train_subset['GarageYrBlt'].replace(np.nan, np.nanmean(hp_train_subset.loc[:,'GarageYrBlt']))\n",
    "hp_train_subset['MasVnrArea'] = hp_train_subset['MasVnrArea'].replace(np.nan,0)\n",
    "hp_train_subset.isna().sum()"
   ]
  },
  {
   "cell_type": "markdown",
   "metadata": {
    "id": "p4cWZXXMZ4g_"
   },
   "source": [
    "Sale price has a slightly right skewed normal distribution"
   ]
  },
  {
   "cell_type": "code",
   "execution_count": null,
   "metadata": {
    "colab": {
     "base_uri": "https://localhost:8080/",
     "height": 731
    },
    "id": "zIKjj1RDapCm",
    "outputId": "4e07da65-7e41-40c9-ea61-8c082cbe5224"
   },
   "outputs": [],
   "source": [
    "plt.figure(figsize=(16,12))\n",
    "\n",
    "plt.subplot(2,2,1)\n",
    "sns.boxplot(x = hp_train[\"FullBath\"], y = hp_train[\"SalePrice\"])\n",
    "\n",
    "plt.subplot(2,2,2)\n",
    "sns.boxplot(x = hp_train[\"Fireplaces\"], y = hp_train[\"SalePrice\"])\n",
    "\n",
    "plt.subplot(2,2,3)\n",
    "sns.boxplot(x = hp_train[\"TotRmsAbvGrd\"], y = hp_train[\"SalePrice\"])\n",
    "\n",
    "plt.subplot(2,2,4)\n",
    "sns.boxplot(x = hp_train[\"OverallQual\"], y = hp_train[\"SalePrice\"])"
   ]
  },
  {
   "cell_type": "code",
   "execution_count": null,
   "metadata": {
    "colab": {
     "base_uri": "https://localhost:8080/",
     "height": 404
    },
    "id": "2Gj3HBkZZUiU",
    "outputId": "a0bb7c34-cbaa-4409-9ec4-3701f853bdf1"
   },
   "outputs": [],
   "source": [
    "plt.boxplot(hp_train.loc[:,'SalePrice'])"
   ]
  },
  {
   "cell_type": "code",
   "execution_count": null,
   "metadata": {
    "colab": {
     "base_uri": "https://localhost:8080/",
     "height": 592
    },
    "id": "UBZhzOwgEW99",
    "outputId": "685cacd2-b8c3-43c5-cdde-5f9c3780cfa2"
   },
   "outputs": [],
   "source": [
    "#standardize the columns\n",
    "import statistics\n",
    "for col in range(len(hp_train_subset.columns) - 1):\n",
    "  mean = hp_train_subset.iloc[:,col].mean()\n",
    "  std = statistics.stdev(hp_train_subset.iloc[:,col])\n",
    "  for row in range(len(hp_train_subset.columns)):\n",
    "    hp_train_subset.iloc[row,col] = hp_train_subset.iloc[row,col] - mean / std\n",
    "for col in range(len(hp_test_subset.columns) - 1):\n",
    "  mean = hp_test_subset.iloc[:,col].mean()\n",
    "  std = statistics.stdev(hp_test_subset.iloc[:,col])\n",
    "  for row in range(len(hp_test_subset.columns)):\n",
    "    hp_test_subset.iloc[row,col] = hp_test_subset.iloc[row,col] - mean / std\n",
    "hp_test_subset"
   ]
  },
  {
   "cell_type": "markdown",
   "metadata": {
    "id": "tIXpoxPaxihX"
   },
   "source": [
    "##2.3 Modeling"
   ]
  },
  {
   "cell_type": "markdown",
   "metadata": {
    "id": "g0e2Xcl7yAXC"
   },
   "source": [
    "## Linear Regression"
   ]
  },
  {
   "cell_type": "code",
   "execution_count": null,
   "metadata": {
    "colab": {
     "base_uri": "https://localhost:8080/",
     "height": 0
    },
    "id": "y1DjvlUw2NsK",
    "outputId": "a470ca69-bce7-4e76-ff44-937ffd39b8b3"
   },
   "outputs": [],
   "source": [
    "from sklearn.linear_model import LinearRegression\n",
    "from sklearn.svm import SVR\n",
    "from sklearn.model_selection import cross_val_score\n",
    "\n",
    "\n",
    "hp_train_subset = hp_train_subset.reindex(columns = [\"OverallQual\",\"GrLivArea\", \"GarageCars\",\"GarageArea\",\"TotalBsmtSF\",\"1stFlrSF\",\"FullBath\",\"TotRmsAbvGrd\",\"YearBuilt\",\"YearRemodAdd\",\"GarageYrBlt\",\"MasVnrArea\",\"Fireplaces\",\"SalePrice\"])\n",
    "\n",
    "hp_X_train = hp_train_subset.iloc[:,0:len(hp_train_subset.columns) - 1]\n",
    "hp_y_train = hp_train_subset.iloc[:,len(hp_train_subset.columns) - 1]\n",
    "reg = LinearRegression()\n",
    "lr_scores = cross_val_score(reg, hp_X_train, hp_y_train, cv=5)\n",
    "\n",
    "hp_train = pd.read_csv('/content/hp_train.csv') \n",
    "hp_X_train_full = hp_train.iloc[:, 0:len(hp_train.columns) - 1] \n",
    "hp_y_train_full = hp_train.iloc[:, len(hp_train.columns) - 1]\n",
    "\n",
    "reg = LinearRegression().fit(hp_X_train, hp_y_train)\n",
    "pred = pd.DataFrame(reg.predict(hp_test_subset))\n",
    "pred.columns = ['SalePrice']\n",
    "pred['Id'] = hp_test['Id']\n",
    "hp_train_subset.isna().sum()\n",
    "pred = pred.reindex(columns = ['Id','SalePrice'])\n",
    "print(pred)\n",
    "pred.to_csv(\"submission.csv\", index=False)\n",
    "#print(scores)"
   ]
  },
  {
   "cell_type": "markdown",
   "metadata": {
    "id": "VaPCUzj37m5h"
   },
   "source": [
    "## Random Forest Regressor"
   ]
  },
  {
   "cell_type": "code",
   "execution_count": null,
   "metadata": {
    "colab": {
     "base_uri": "https://localhost:8080/",
     "height": 0
    },
    "id": "ooWMt1cjqLTq",
    "outputId": "72560e6b-c063-42cb-ba64-329a0471a3e3"
   },
   "outputs": [],
   "source": [
    "from sklearn.ensemble import RandomForestRegressor\n",
    "from sklearn.datasets import make_regression\n",
    "from sklearn.model_selection import train_test_split\n",
    "from sklearn.model_selection import cross_val_score\n",
    "\n",
    "rfg = RandomForestRegressor().fit(hp_X_train,hp_y_train )\n",
    "rfg_scores = cross_val_score(rfg, hp_X_train, hp_y_train, cv=5)\n",
    "pred1 = pd.DataFrame(rfg.predict(hp_test_subset))\n",
    "pred1.columns = ['SalePrice']\n",
    "pred1['Id'] = hp_test['Id']\n",
    "pred1 = pred1[['Id','SalePrice']]\n",
    "pred1.to_csv(\"submission.csv\", index=False)\n",
    "\n",
    "pred1\n",
    "rfg_scores"
   ]
  },
  {
   "cell_type": "markdown",
   "metadata": {
    "id": "L3rpZ5NS7_Jc"
   },
   "source": [
    "## Support Vector Regressor"
   ]
  },
  {
   "cell_type": "code",
   "execution_count": null,
   "metadata": {
    "colab": {
     "base_uri": "https://localhost:8080/",
     "height": 441
    },
    "id": "Qcz_BZhE8CcP",
    "outputId": "296e3f2d-03c9-4dde-a8c6-9be334b46abb"
   },
   "outputs": [],
   "source": [
    "from sklearn.svm import SVR\n",
    "\n",
    "svr_scores = cross_val_score(SVR(), hp_X_train, hp_y_train, cv=5)\n",
    "svr = SVR().fit(hp_X_train, hp_y_train)\n",
    "svr_pred = pd.DataFrame(svr.predict(hp_test_subset))\n",
    "print(svr_scores)\n",
    "svr_pred"
   ]
  },
  {
   "cell_type": "markdown",
   "metadata": {
    "id": "GL0jFN_R3in8"
   },
   "source": [
    "## Gradient Boosting Regressor"
   ]
  },
  {
   "cell_type": "code",
   "execution_count": null,
   "metadata": {
    "colab": {
     "base_uri": "https://localhost:8080/",
     "height": 0
    },
    "id": "7hF-nDWf3i4x",
    "outputId": "ce5e0be6-3503-4f10-b745-9bb00cccdbbc"
   },
   "outputs": [],
   "source": [
    "from sklearn.ensemble import GradientBoostingRegressor\n",
    "\n",
    "gbreg = GradientBoostingRegressor().fit(hp_X_train, hp_y_train)\n",
    "gbr_scores = cross_val_score(GradientBoostingRegressor(), hp_X_train, hp_y_train, cv=5)\n",
    "\n",
    "pred = pd.DataFrame(gbreg.predict(hp_test_subset))\n",
    "pred.columns = ['SalePrice']\n",
    "pred['Id'] = hp_test['Id']\n",
    "hp_train_subset.isna().sum()\n",
    "pred = pred.reindex(columns = ['Id','SalePrice'])\n",
    "print(pred)\n",
    "pred.to_csv(\"submission.csv\", index=False)"
   ]
  },
  {
   "cell_type": "markdown",
   "metadata": {
    "id": "n3doI6QJ6NXF"
   },
   "source": [
    "## Decision Tree Regressor"
   ]
  },
  {
   "cell_type": "code",
   "execution_count": null,
   "metadata": {
    "id": "ZRhJjYvv6Qnw"
   },
   "outputs": [],
   "source": [
    "from sklearn.tree import DecisionTreeRegressor\n",
    "\n",
    "dt_scores = cross_val_score(DecisionTreeRegressor(), hp_X_train, hp_y_train, cv = 5)\n"
   ]
  },
  {
   "cell_type": "markdown",
   "metadata": {
    "id": "Y7KltVsa_Nn4"
   },
   "source": [
    "## Bayesian Ridge Regression"
   ]
  },
  {
   "cell_type": "code",
   "execution_count": null,
   "metadata": {
    "colab": {
     "base_uri": "https://localhost:8080/",
     "height": 0
    },
    "id": "gx-MiFqT7rHn",
    "outputId": "1e78ea57-2341-4acc-9d9d-70d372089a62"
   },
   "outputs": [],
   "source": [
    "from sklearn.linear_model import BayesianRidge\n",
    "\n",
    "br_scores = cross_val_score(BayesianRidge(), hp_X_train, hp_y_train,cv = 5)\n",
    "np.mean(br_scores)"
   ]
  },
  {
   "cell_type": "markdown",
   "metadata": {
    "id": "ZYIHixal_J4T"
   },
   "source": [
    "## Lasso Regression"
   ]
  },
  {
   "cell_type": "code",
   "execution_count": null,
   "metadata": {
    "colab": {
     "base_uri": "https://localhost:8080/",
     "height": 0
    },
    "id": "aIXleYDO9Zgw",
    "outputId": "8a3f4c56-20d4-42ba-ccd5-3e62c5832987"
   },
   "outputs": [],
   "source": [
    "from sklearn import linear_model\n",
    "\n",
    "\n",
    "lass_scores = cross_val_score(linear_model.Lasso(alpha = .1), hp_X_train, hp_y_train,cv = 5)\n",
    "\n",
    "lass_scores"
   ]
  },
  {
   "cell_type": "markdown",
   "metadata": {
    "id": "V-91avNH_H2w"
   },
   "source": [
    "## MLP Regressor"
   ]
  },
  {
   "cell_type": "code",
   "execution_count": null,
   "metadata": {
    "colab": {
     "base_uri": "https://localhost:8080/",
     "height": 0
    },
    "id": "ySeCxWUX-IOK",
    "outputId": "b3e63022-c495-49f2-e3e1-c2a97e69ccbc"
   },
   "outputs": [],
   "source": [
    "from sklearn.neural_network import MLPRegressor\n",
    "\n",
    "mlp_scores = cross_val_score(MLPRegressor(max_iter = 1000), hp_X_train, hp_y_train, cv = 5)\n",
    "mlp_scores"
   ]
  },
  {
   "cell_type": "markdown",
   "metadata": {
    "id": "lPg67tCaAdWJ"
   },
   "source": [
    "## KNN Regressor"
   ]
  },
  {
   "cell_type": "code",
   "execution_count": null,
   "metadata": {
    "colab": {
     "base_uri": "https://localhost:8080/",
     "height": 0
    },
    "id": "x_z1Fy4S_uHW",
    "outputId": "37f64794-dcfb-4c72-b62d-c13fe81345f5"
   },
   "outputs": [],
   "source": [
    "from sklearn import neighbors\n",
    "knn_scores = cross_val_score(neighbors.KNeighborsRegressor(n_neighbors = 5) , hp_X_train, hp_y_train, cv = 5)\n",
    "\n",
    "knn_scores"
   ]
  },
  {
   "cell_type": "code",
   "execution_count": null,
   "metadata": {
    "colab": {
     "base_uri": "https://localhost:8080/",
     "height": 331
    },
    "id": "uwwQ_Hqs4-fP",
    "outputId": "e7cb2f41-85ef-45d6-866a-d0844c37860c"
   },
   "outputs": [],
   "source": [
    "df_scores = pd.DataFrame(columns = ['Model','Score'])\n",
    "df_scores['Model'] = ['Linear Regression', 'Random Forest Regression','Support Vector Regressor', 'Gradient Boosting Regressor', 'Decision Tree Regressor', 'Bayesian Ridge Regression', 'Lasso Regression', 'MLP Regressor', 'KNN Regressor']\n",
    "df_scores['Score'] = [np.mean(lr_scores), np.mean(rfg_scores), np.mean(svr_scores), np.mean(gbr_scores), np.mean(dt_scores), np.mean(br_scores), np.mean(lass_scores), np.mean(mlp_scores), np.mean(knn_scores)]\n",
    "#df_scores.loc[0,'Model'] = 'Linear Regression'\n",
    "#df_scores.loc[1,'Model']\n",
    "df_scores #.sort_values(by = 'Score', ascending = False)"
   ]
  }
 ],
 "metadata": {
  "colab": {
   "collapsed_sections": [],
   "name": "B365_project.ipynb",
   "provenance": []
  },
  "kernelspec": {
   "display_name": "Python 3",
   "language": "python",
   "name": "python3"
  },
  "language_info": {
   "codemirror_mode": {
    "name": "ipython",
    "version": 3
   },
   "file_extension": ".py",
   "mimetype": "text/x-python",
   "name": "python",
   "nbconvert_exporter": "python",
   "pygments_lexer": "ipython3",
   "version": "3.8.8"
  }
 },
 "nbformat": 4,
 "nbformat_minor": 1
}
